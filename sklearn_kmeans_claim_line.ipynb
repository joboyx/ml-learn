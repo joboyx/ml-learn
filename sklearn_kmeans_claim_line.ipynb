{
 "cells": [
  {
   "cell_type": "code",
   "execution_count": 4,
   "metadata": {
    "collapsed": true
   },
   "outputs": [],
   "source": [
    "from sklearn.cluster import KMeans\n",
    "import pandas as pd\n",
    "\n",
    "import matplotlib.pyplot as plt\n",
    "from mpl_toolkits.mplot3d import Axes3D\n",
    "\n",
    "%matplotlib inline"
   ]
  },
  {
   "cell_type": "code",
   "execution_count": 5,
   "metadata": {
    "collapsed": true
   },
   "outputs": [],
   "source": [
    "# CONSTANTS\n",
    "\n",
    "N_DATA = 10000\n",
    "SEED = 1234 # need to seed our pandas sampling\n",
    "\n",
    "DATA_DIR = '/home/joboy/Work/machine-learning/'\n",
    "CLAIM_LINE_CLEAN_FILE = DATA_DIR + 'CLAIM_LINE_CLEAN.csv'\n",
    "CLAIM_LINE_FILE = DATA_DIR + 'CLAIM_LINE.csv'"
   ]
  },
  {
   "cell_type": "code",
   "execution_count": 6,
   "metadata": {},
   "outputs": [
    {
     "name": "stdout",
     "output_type": "stream",
     "text": [
      "CPU times: user 1.93 s, sys: 52 ms, total: 1.98 s\n",
      "Wall time: 1.98 s\n",
      "CPU times: user 24 ms, sys: 0 ns, total: 24 ms\n",
      "Wall time: 26.7 ms\n"
     ]
    }
   ],
   "source": [
    "%time claims_raw = pd.read_csv(CLAIM_LINE_CLEAN_FILE)\n",
    "%time claims_unclean_raw = pd.read_csv(CLAIM_LINE_FILE)\n",
    "\n",
    "claims = claims_raw.sample(n=N_DATA, random_state=SEED)\n",
    "claims_unclean_raw = claims_unclean_raw.sample(n=N_DATA, random_state=SEED)"
   ]
  },
  {
   "cell_type": "code",
   "execution_count": 22,
   "metadata": {},
   "outputs": [],
   "source": [
    "model = KMeans(n_clusters=5, random_state=SEED)\n",
    "\n",
    "claims_kmeans = model.fit_transform(claims_raw)"
   ]
  },
  {
   "cell_type": "code",
   "execution_count": 23,
   "metadata": {
    "scrolled": false
   },
   "outputs": [
    {
     "data": {
      "text/plain": [
       "<matplotlib.collections.PathCollection at 0x7f49875d7da0>"
      ]
     },
     "execution_count": 23,
     "metadata": {},
     "output_type": "execute_result"
    },
    {
     "data": {
      "image/png": "[encoded data removed]",
      "text/plain": [
       "<matplotlib.figure.Figure at 0x7f4987677e80>"
      ]
     },
     "metadata": {},
     "output_type": "display_data"
    }
   ],
   "source": [
    "plt.scatter(claims_kmeans[:, 0], claims_kmeans[:, 1])"
   ]
  }
 ],
 "metadata": {
  "kernelspec": {
   "display_name": "Python 3",
   "language": "python",
   "name": "python3"
  },
  "language_info": {
   "codemirror_mode": {
    "name": "ipython",
    "version": 3
   },
   "file_extension": ".py",
   "mimetype": "text/x-python",
   "name": "python",
   "nbconvert_exporter": "python",
   "pygments_lexer": "ipython3",
   "version": "3.5.2"
  }
 },
 "nbformat": 4,
 "nbformat_minor": 2
}
