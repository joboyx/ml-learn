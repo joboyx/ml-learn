{
 "cells": [
  {
   "cell_type": "code",
   "execution_count": 27,
   "metadata": {},
   "outputs": [],
   "source": [
    "import tensorflow.contrib.keras.api.keras as K\n",
    "import numpy as np\n",
    "\n",
    "LOGSDIR = \"data-keras-icd/\"\n",
    "\n",
    "model = K.models.Sequential()\n",
    "model.add(K.layers.Embedding(1000, 64, input_length=10))\n",
    "# the model will take as input an integer matrix of size (batch, input_length).\n",
    "# the largest integer (i.e. word index) in the input should be no larger than 999 (vocabulary size).\n",
    "# now model.output_shape == (None, 10, 64), where None is the batch dimension.\n",
    "\n",
    "input_array = np.random.randint(1000, size=(32, 10))\n",
    "\n",
    "model.compile('rmsprop', 'mse')\n",
    "output_array = model.predict(input_array)\n",
    "assert output_array.shape == (32, 10, 64)"
   ]
  },
  {
   "cell_type": "code",
   "execution_count": 28,
   "metadata": {},
   "outputs": [
    {
     "data": {
      "image/png": "[encoded data removed]",
      "text/plain": [
       "<IPython.core.display.Image object>"
      ]
     },
     "execution_count": 28,
     "metadata": {},
     "output_type": "execute_result"
    }
   ],
   "source": [
    "K.utils.plot_model(model, to_file=LOGSDIR + \"keras-icd-model.png\", show_shapes=True)\n",
    "import IPython\n",
    "\n",
    "IPython.display.Image(filename=LOGSDIR + \"keras-icd-model.png\")"
   ]
  },
  {
   "cell_type": "code",
   "execution_count": 31,
   "metadata": {},
   "outputs": [
    {
     "name": "stdout",
     "output_type": "stream",
     "text": [
      "Epoch 1/10\n",
      "32/32 [==============================] - 0s - loss: 0.0000e+00\n",
      "Epoch 2/10\n",
      "32/32 [==============================] - 0s - loss: 0.0000e+00\n",
      "Epoch 3/10\n",
      "32/32 [==============================] - 0s - loss: 0.0000e+00\n",
      "Epoch 4/10\n",
      "32/32 [==============================] - 0s - loss: 0.0000e+00\n",
      "Epoch 5/10\n",
      "32/32 [==============================] - 0s - loss: 0.0000e+00\n",
      "Epoch 6/10\n",
      "32/32 [==============================] - 0s - loss: 0.0000e+00\n",
      "Epoch 7/10\n",
      "32/32 [==============================] - 0s - loss: 0.0000e+00\n",
      "Epoch 8/10\n",
      "32/32 [==============================] - 0s - loss: 0.0000e+00\n",
      "Epoch 9/10\n",
      "32/32 [==============================] - 0s - loss: 0.0000e+00\n",
      "Epoch 10/10\n",
      "32/32 [==============================] - 0s - loss: 0.0000e+00\n"
     ]
    },
    {
     "data": {
      "text/plain": [
       "<tensorflow.contrib.keras.python.keras.callbacks.History at 0x7fe7ebcd17f0>"
      ]
     },
     "execution_count": 31,
     "metadata": {},
     "output_type": "execute_result"
    }
   ],
   "source": [
    "callback_tensorboard = K.callbacks.TensorBoard(log_dir=LOGSDIR, embeddings_freq=1)\n",
    "model.fit(input_array, output_array, callbacks=[callback_tensorboard])"
   ]
  },
  {
   "cell_type": "code",
   "execution_count": 30,
   "metadata": {
    "collapsed": true
   },
   "outputs": [],
   "source": [
    "?K.callbacks.TensorBoard"
   ]
  }
 ],
 "metadata": {
  "kernelspec": {
   "display_name": "Python 3",
   "language": "python",
   "name": "python3"
  },
  "language_info": {
   "codemirror_mode": {
    "name": "ipython",
    "version": 3
   },
   "file_extension": ".py",
   "mimetype": "text/x-python",
   "name": "python",
   "nbconvert_exporter": "python",
   "pygments_lexer": "ipython3",
   "version": "3.5.2"
  }
 },
 "nbformat": 4,
 "nbformat_minor": 2
}
