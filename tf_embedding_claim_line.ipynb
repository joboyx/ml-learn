{
 "cells": [
  {
   "cell_type": "code",
   "execution_count": 1,
   "metadata": {
    "collapsed": true
   },
   "outputs": [],
   "source": [
    "import tensorflow as tf\n",
    "import pandas as pd"
   ]
  },
  {
   "cell_type": "code",
   "execution_count": 2,
   "metadata": {
    "collapsed": true
   },
   "outputs": [],
   "source": [
    "DATASET_DIR = '~/Work/machine-learning/'\n",
    "DATA_DIR = 'data_tf_claim_line/'\n",
    "SEED = 1234\n",
    "N_DATA = 10000"
   ]
  },
  {
   "cell_type": "code",
   "execution_count": 3,
   "metadata": {
    "collapsed": true
   },
   "outputs": [],
   "source": [
    "ds_claims_clean = pd.read_csv(DATASET_DIR + 'CLAIM_LINE_CLEAN.csv')\n",
    "ds_claims_clean = ds_claims_clean.sample(n=N_DATA, random_state=SEED)\n",
    "\n",
    "ds_claims_raw = pd.read_csv(DATASET_DIR + 'CLAIM_LINE.csv')\n",
    "ds_claims_raw = ds_claims_raw.sample(n=N_DATA, random_state=SEED)"
   ]
  },
  {
   "cell_type": "code",
   "execution_count": 4,
   "metadata": {},
   "outputs": [],
   "source": [
    "ds_claims_raw.to_csv(DATA_DIR + 'metadata.tsv', sep='\\t')"
   ]
  },
  {
   "cell_type": "code",
   "execution_count": 5,
   "metadata": {
    "collapsed": true
   },
   "outputs": [],
   "source": [
    "embedding = tf.Variable(ds_claims_clean.values, name=\"Embedding\")\n",
    "\n",
    "init = tf.global_variables_initializer()\n",
    "\n",
    "sess = tf.InteractiveSession()"
   ]
  },
  {
   "cell_type": "code",
   "execution_count": 6,
   "metadata": {},
   "outputs": [],
   "source": [
    "sess.run(init)"
   ]
  },
  {
   "cell_type": "code",
   "execution_count": 7,
   "metadata": {
    "collapsed": true
   },
   "outputs": [],
   "source": [
    "saver = tf.train.Saver()\n",
    "saver.save(sess, DATA_DIR + 'model.ckpt')\n",
    "\n",
    "config = tf.contrib.tensorboard.plugins.projector.ProjectorConfig()\n",
    "emb = config.embeddings.add()\n",
    "emb.tensor_name = embedding.name\n",
    "emb.metadata_path = 'metadata.tsv'\n",
    "\n",
    "summary_writer = tf.summary.FileWriter(DATA_DIR)\n",
    "\n",
    "tf.contrib.tensorboard.plugins.projector.visualize_embeddings(summary_writer=summary_writer, config=config)"
   ]
  }
 ],
 "metadata": {
  "kernelspec": {
   "display_name": "Python 3",
   "language": "python",
   "name": "python3"
  },
  "language_info": {
   "codemirror_mode": {
    "name": "ipython",
    "version": 3
   },
   "file_extension": ".py",
   "mimetype": "text/x-python",
   "name": "python",
   "nbconvert_exporter": "python",
   "pygments_lexer": "ipython3",
   "version": "3.5.2"
  }
 },
 "nbformat": 4,
 "nbformat_minor": 2
}
